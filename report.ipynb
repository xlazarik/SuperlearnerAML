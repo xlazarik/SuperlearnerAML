{
 "cells": [
  {
   "cell_type": "markdown",
   "id": "c63700a4-9070-49de-9ba9-17b8b7700af9",
   "metadata": {},
   "source": [
    "# SUPERLEARNER"
   ]
  },
  {
   "cell_type": "markdown",
   "id": "e8f555fc-c047-4a91-b656-8b656a4321c2",
   "metadata": {},
   "source": [
    "Throughout the project we reference many times the paper: **Practical considerations for specifying a super learner**\n",
    "https://arxiv.org/pdf/2204.06139\n",
    "\n",
    "All of the text is part of the executable notebook where it is accompanied by relevant code and outputs (where necessary) for context."
   ]
  },
  {
   "cell_type": "markdown",
   "id": "d0664513-cfad-486a-931e-74352c0e01ad",
   "metadata": {},
   "source": [
    "# TODO: Maybe some feature analysis and selection + input format description\n",
    "Possible to add screenshots from the code notebook or add dataset loading and analysis here"
   ]
  },
  {
   "cell_type": "markdown",
   "id": "c73385ee-04c1-46df-a1ee-dab4294c4c1d",
   "metadata": {},
   "source": [
    "Our dataset consists of n=4601 records for to which one of two classes 0/1 (no-spam/spam) is assigned so we are dealing with binary classification.\n",
    "\n",
    "We have followed the methodology from the paper to select a fitting choice of hyperparameters, number of folds for cross-validation and evaluation metric."
   ]
  },
  {
   "cell_type": "markdown",
   "id": "b2e8f4b4-a169-4a51-b7d7-08e1afb43b7c",
   "metadata": {},
   "source": [
    "First we determined the prevalence of individual classes to detect whether there is an inbalance in their distribution.\n",
    "\n",
    "**Records containing spam:** 1813\n",
    "\n",
    "**Records not containing spam:** 2788"
   ]
  },
  {
   "cell_type": "markdown",
   "id": "cc637054-4581-428d-8708-811210077263",
   "metadata": {},
   "source": [
    "#### Computing the effective sample size n_eff (from paper)\n",
    "\n",
    "We have binary data, the prevalence of Y is **p=class_1 / total_size**, subsequently **n_rare=n*min(p, 1-p)**, and finally **n_eff=min(n, 5*n_rare)**.\n",
    "\n",
    "In our case **n_eff = 4601**."
   ]
  },
  {
   "cell_type": "markdown",
   "id": "60c3af7e-abdc-412e-9731-24a922d163b0",
   "metadata": {},
   "source": [
    "#### Computing the V for V-fold cross-validation\n",
    "Since n_eff >= 500 but not >= 5000 we should select a value between 20 and 10. We take in account that n_eff is closer to 5000 and so we focus on V slightly higher than 10. We chose 12."
   ]
  },
  {
   "cell_type": "markdown",
   "id": "89fd9690-5a8b-49d7-a32d-b89749c20e84",
   "metadata": {},
   "source": [
    "### BASE LEARNERS - SPECIFICATION\n",
    "\n",
    "When choosing the base learners for the first layer we have considered the properties of the dataset and the task in this case being binary classification. As the paper *Practical considerations for specifying a super learner* suggests \"An ideal, rich library is diverse in its learning strategies, able to adapt to a range of underlying functional forms for the true prediction function, computationally feasible, and effective at handling high dimensional data. Diverse libraries include parametric learners, highly data-adaptive learners, multiple variants of the same learner with different tuning parameter specifications...\". So the first layer should consist of diverse algorithms with different inductive biases to ensure a rich set of predictions for the metalearnerearner\".\n",
    "\n",
    "We have selected: \n",
    "\n",
    "**Random Forest:**\n",
    "\n",
    "Because they are robust to overfitting on datasets with many features and they handle noisy or irrelevant features well, which is can be a thing in this case.\n",
    "\n",
    "**Generalized Linear Model - Logistic regression:**\n",
    "\n",
    "We chose to add it because it's a simple yet effective baseline model, especially logistic regression for binary classification. It should provide a low-variance learner to complement the other high-variance ones.\n",
    "\n",
    "**Deep Learning (H20's MLP):**\n",
    "\n",
    "We add the neural networks, because of it's flexibility so it could capture non-linear relationships which should broaden the diversity of the stacks prediction.\n",
    "\n",
    "**Naive Bayes:**\n",
    "\n",
    "Why: Spam datasets often benefit from Naive Bayes since it assumes independence among features and thus might capture something more general than the other models.\n",
    "\n",
    "**Gradient Boosting Machines:**\n",
    "\n",
    "We choose them as another complement ensemble method that can capture rather complex relationship and so maybe overfit more to th data.\n",
    "\n",
    "\n",
    "We assume the simpler models like naive bayes and logistic regression should bring in the stack a more general view without focusing too much on the quirks in the data and to balance it out we have selected a more accurate and flexible methods like MLP"
   ]
  },
  {
   "cell_type": "markdown",
   "id": "20fde15a-6119-4935-a5b9-e124323648a2",
   "metadata": {},
   "source": [
    "### METALEARNER - TRAINING & EVALUATION\n",
    "\n",
    "\n",
    "For the metalearner we principally selected two possible options for testing:\n",
    "\n",
    "**GLM:**\n",
    "\n",
    "We chose logistic regression because it is simple and interpretable and as a meta-learner we want it just combine the predictions of individual learners by weighting the them reducing the risk of overfitting when combining predictions. So in this case we are more focused on finding the best combination of predictions rather than adding more complexity.\n",
    "\n",
    "**Gradient Boosting Machine / MLP:**\n",
    "\n",
    "As an alternative second option we would suggest something stronger, a bit of a bigger hammer sort to say, especially for our stacks which are more diverse in which case their predictions could be more complex, so they could capture non-linear relationships among them. Due to computational demands (and mostly time) we tested this option only on some representative selection and the best performing combinations from the point 1.\n",
    "\n",
    "**Evaluation metrics:**\n",
    "In accordance with the paper where our task is binary classification of imbalanced classes we chose AUCPR as a primary evaluation metric. In addition as alternatives we provide F1 (once again due uneven class distribution) and finally accuracy as complement."
   ]
  },
  {
   "cell_type": "markdown",
   "id": "bab82ad5-21fc-44cf-9671-3f0b08920440",
   "metadata": {},
   "source": [
    "# Ablation studies\n",
    "\n",
    "We also tried various configurations of hyperparameters for each class of learners as the paper specifies: *\"Since the true functional form is unknown, it is a good idea to consider a variety of base learners, and to construct multiple variations of the same base learner with different tuning specifications. There is no harm in including a learner that performs poorly in the library, as it will be given a weight of zero...\"* (or close to 0).\n",
    "\n",
    "In the following we tried a more methodological way of building the stack. \n",
    "We identified two approaches for which their effects could be evaluated on the final test metrics:\n",
    "\n",
    "**1) Building the stack from simpler models adding more complex ones:**\n",
    "\n",
    "In this method we start from a base consisting of simple models which we assume would capture the main / most general pattern in the data.\n",
    "Afterwards we gradually try adding more complex models to extend the stack capabilities to capture more finer intricacies and more complex (perhaps non-linear) relationships in the data and we observe the effect on the test metrics.\n",
    "\n",
    "\n",
    "**1) Building the stack from more complex models adding more general/simple ones:**\n",
    "In this method we start from a base consisting of more complex models which we assume would capture the complex relationships in data well and then\n",
    "we try to bring down the variance by adding simpler models that don't overfit to the data so much.\n",
    "\n",
    "Due to computational demands we have decided to test only the first one.\n"
   ]
  },
  {
   "cell_type": "markdown",
   "id": "73926ef0-1dda-43a3-9c77-e064e8b23f8b",
   "metadata": {},
   "source": [
    "##### We also note that a more efficient variant would be training each model only once in case it is present in multiple combinations.\n",
    "\n",
    "Due to the tradeoff between the scope of this project and time capabilities we perform only superficial overview. If the problem would be a topic of major research where the time needed to search the vast hypothesis space is available, we would suggest performing more extensive per-class tests with higher hyperparameter sampling granularity to better observe how they affect the models performance.\n",
    "\n",
    "# Simple to complex\n",
    "\n",
    "To try all possible combinations would be computationally unfeaseble. Therefore we chose a more naive tactic, where we examine the combination of a \n",
    "simple learner with the a few representative selections of a single class of complex learners and we choose the best performing options for combinations with others. There is a notebook with the ablations for each of the more complex learner classes we used (RF, GBM, MLP)."
   ]
  },
  {
   "cell_type": "markdown",
   "id": "f8bdcda8-d3f7-4f14-a493-849b84ced74c",
   "metadata": {},
   "source": [
    "# Results of the ablations\n",
    "\n",
    "Our goal for each class was to select one options which probably overfits more, one which provides a good tradeoff between the overfitting and complexity and one which performs the most poorly hoping it might be less overfit (but all of them except for the primitive variants (NB/LR) obtain high scores so it is not such a difference)."
   ]
  },
  {
   "cell_type": "markdown",
   "id": "0da5735c-c933-409f-9df2-728271f1a877",
   "metadata": {},
   "source": [
    "## Random Forest\n",
    "**LEGEND EXPLANATION:**\n",
    "\n",
    "**LR** - Logistic Regression\n",
    "**RFX** - Random Forest X trees (max depth=10)\n",
    "**RFXu** - Random Forest X trees (unbounded depth)\n",
    "**NB** - Naive Bayes\n",
    "\n",
    "### Logistic Regression as a base simple model\n",
    "\n",
    "![title](ablations/logistic_regression_combinations_random_forests_ablations.png)\n",
    "\n",
    "### Naive Bayes as a base simple model\n",
    "\n",
    "![title](ablations/naive_bayes_combinations_random_forests_ablations.png)\n"
   ]
  },
  {
   "cell_type": "markdown",
   "id": "78dad16d-b19b-4406-beae-5163c1e99d34",
   "metadata": {},
   "source": [
    "From RF's class we have selected the configurations:\n",
    "\n",
    "But we went with:\n",
    "**RandomForest 10 trees with depth 10 - RandomForest 50 trees with depth 10:**\n",
    "We have noted a visible drop (especially for LR) for the AUC-PR and F1 metrics between the unbounded and depth bounded trees. For this reason we selected the variant with bounded depth which performed among the best withing unbounded variants (or equally well in some cases as the most complex one).\n",
    "\n",
    "**RandomForest 10 trees with depth 10:**\n",
    "For our most simple version we selected random forest with 10 bounded trees because even though it is the simples configuration it sometimes performs better than the more complex 10_20 one.\n",
    "\n",
    "Originally we were considering also this option:\n",
    "\n",
    "**RandomForest 10 trees unbounded depth - RandomForest 50 trees with depth 10:**\n",
    "After consulting the AUC-PR and F1-Score it is one of the best performing variants even though it is not one of the most complex ones.\n",
    "\n",
    "\n",
    "In it's place we added option of **RandomForest 50 trees with depth 10:** as that is what we would try first hand in non-superlearner setting."
   ]
  },
  {
   "cell_type": "markdown",
   "id": "d90e647c-42b4-4d9b-ab01-e73d7e5df2b9",
   "metadata": {},
   "source": [
    "## Gradient Boosting\n",
    "**LEGEND EXPLANATION:**\n",
    "\n",
    "**LR** - Logistic Regression\n",
    "**GBX** - Gradient Boosting X trees (max depth=10)\n",
    "**GBXu** - Gradient Boosting X trees (unbounded depth)\n",
    "**NB** - Naive Bayes\n",
    "\n",
    "### Logistic Regression as a base simple model\n",
    "\n",
    "![title](ablations/logistic_regression_combinations_gradient_boosting_ablations.png)\n",
    "\n",
    "### Naive Bayes as a base simple model\n",
    "\n",
    "![title](ablations/naive_bayes_combinations_gradient_boosting_ablations.png)\n"
   ]
  },
  {
   "cell_type": "markdown",
   "id": "aec0afa2-235a-405f-8564-405d53065770",
   "metadata": {},
   "source": [
    "From GB class we have selected the configurations:\n",
    "\n",
    "\n",
    "**GradientBoosting 10 trees with depth 10 - GradientBoosting 50 trees with depth 10:**\n",
    "From the AUC-PR and F1-Score metrics it is one of the best performing variants even though it doesn't contain the model with unbounded depths.\n",
    "\n",
    "**GradientBoosting 10 trees with depth 10 - GradientBoosting 20 trees with depth 10:**\n",
    "In this class we are selecting only two options (to minimize overall complexity) as it seems that there is a visible drop between simple variants of 10 bounded trees and 10_20 bounded trees."
   ]
  },
  {
   "cell_type": "markdown",
   "id": "12436207-8c4a-46c7-b3a8-84497b2a7473",
   "metadata": {},
   "source": [
    "## MLP\n",
    "**LEGEND EXPLANATION:**\n",
    "\n",
    "**LR** - Logistic Regression\n",
    "**NNX** - MLP with X neurons in 1 hidden layer\n",
    "**NNX_Y** - MLP with X neurons in 1st hidden layer and Y neurons in 2nd hidden layer\n",
    "**NB** - Naive Bayes\n",
    "\n",
    "### Logistic Regression as a base simple model\n",
    "\n",
    "![title](ablations/logistic_regression_combinations_mlps_ablations.png)\n",
    "\n",
    "### Naive Bayes as a base simple model\n",
    "\n",
    "![title](ablations/naive_bayes_combinations_mlps_ablations.png)\n"
   ]
  },
  {
   "cell_type": "markdown",
   "id": "1c962d49-b633-46a4-b183-ad61f31c2bca",
   "metadata": {},
   "source": [
    "**NOTE there is a mistake in labels where NN62 should be NN32*\n",
    "\n",
    "From MLP class we have selected the configurations:\n",
    "\n",
    "\n",
    "**MLP 16 neurons in single hidden layer:**\n",
    "From the AUC-PR and F1-Score metrics we can see that model performs comparable well to double layers MLPs yet with an advantage of significantly reduced complexity.\n",
    "\n",
    "**MLP 10 neurons in single hidden layer:**\n",
    "Not in testing samples but in between 10-16 as we wanted to avoid overfitting too much and the poorer perfomance of 6 neurons in some setting."
   ]
  },
  {
   "cell_type": "markdown",
   "id": "213d4707-abed-4798-a2f3-66d82dc477af",
   "metadata": {},
   "source": [
    "## Results achieved from combinations built on single primitive model (LR, NB)"
   ]
  },
  {
   "cell_type": "markdown",
   "id": "d9ba2b33-d0d6-4264-8950-4a103daf7881",
   "metadata": {},
   "source": [
    "![title](ablations/single_simple_model_ablations.png) "
   ]
  },
  {
   "cell_type": "markdown",
   "id": "8d482c25-90e0-41ea-8517-426a4cfbe724",
   "metadata": {},
   "source": [
    "## Results achieved for mix of two models"
   ]
  },
  {
   "attachments": {},
   "cell_type": "markdown",
   "id": "e5deaa56-ab4c-4599-8b1a-9c88d81cd60b",
   "metadata": {},
   "source": [
    "![title](ablations/mix_of_two_models_ablations.png) "
   ]
  },
  {
   "cell_type": "markdown",
   "id": "ad19d27c-4450-4e39-9d55-33ab2fab8b01",
   "metadata": {},
   "source": [
    "## And combined results"
   ]
  },
  {
   "cell_type": "markdown",
   "id": "79bb5edf-63c3-4f46-9891-8d0d1a991ea5",
   "metadata": {},
   "source": [
    "![title](ablations/combined_results_ablations.png) "
   ]
  },
  {
   "cell_type": "markdown",
   "id": "ffd7b18f-ab5e-4cfa-b113-e39b64bbc1c6",
   "metadata": {},
   "source": [
    "We must note that all of the models perform comparably with the differences being minuscule. Even still we selected a subset of representative examples.\n",
    "From the following results we select:\n",
    "\n",
    "**Naive Bayes + Random Forest 50 trees + Gradient Boosting 10 trees + Gradient Boosting 50 trees + MLP with 16 neurons in 1 hidden layer** as second best performing (yet not the most complex) model according to the AUC-PR metric.\n",
    "\n",
    "**Naive Bayes + Random Forest 10 trees + Gradient Boosting 10 trees + Gradient Boosting 50 trees + MLP with 16 neurons in 1 hidden layer** as the best performing according to the F1 and Accuracy scores.\n",
    "\n",
    "**Naive Bayes + Random Forest 10 trees + Gradient Boosting 10 trees + Gradient Boosting 50 trees + MLP with 16 neurons in 1 hidden layer** as the best performing according to the F1 and Accuracy scores.\n",
    "\n",
    "**Logistic Regression + Random Forest 10 trees + Gradient Boosting 10 trees + Gradient Boosting 50 trees + MLP with 16 neurons in 1 hidden layer** as the model well balancing all the metrics.\n",
    "\n",
    "Additionaly we add a **simple stack** without tuned hyperparameters consisting of one version of each learner."
   ]
  },
  {
   "cell_type": "markdown",
   "id": "95b0be94-8215-4a52-8fb2-3944be4aff05",
   "metadata": {},
   "source": [
    "## Final overview of this representative sample comparing GLM and Neural Network as choice of metalearner\n",
    "\n",
    "![title](ablations/final_overview_deeplearning_glm.png) \n"
   ]
  },
  {
   "cell_type": "markdown",
   "id": "5dbacce2-65f8-4bf9-8c40-5680f0f3a1ae",
   "metadata": {},
   "source": [
    "Even though deeplearning metalearner performs the best on AUC-PR we choose the model **Naive Bayes + Random Forest 50 trees + Gradient Boosting 10 trees + Gradient Boosting 50 trees + MLP with 1 hidden layer with 16 neurons** as the model which best balances all metrics but primarily performs among the best on AUC-PR and F1-Score."
   ]
  },
  {
   "cell_type": "markdown",
   "id": "5d4fedd9-9cc0-4840-829f-862b227d430d",
   "metadata": {},
   "source": [
    "## The estimation of generalization error on the final (until now unseen) test data"
   ]
  },
  {
   "cell_type": "markdown",
   "id": "4d982d4a-d3b9-4f41-8221-f17ee394dc78",
   "metadata": {},
   "source": [
    "#### **AUC-PR:** 0.9749\n",
    "#### **F1-Score:** 0.9537\n",
    "#### **Accuracy:** 0.9598\n",
    "\n",
    "Results are comparable with what we observed on the validation set."
   ]
  },
  {
   "cell_type": "markdown",
   "id": "0eecca4e-ccfa-4e9c-800b-ad8eb146a45e",
   "metadata": {},
   "source": [
    "## Conclusions & Observations\n",
    "\n",
    "* We note that as expected choice of a single simple model LR or NB performed significantly worsed compared to any other stack.\n",
    "\n",
    "* Stacks in general surpassed the results of the individual methods although the change was not too big so the original base learners probably manage to \n",
    "capture the relationships in the data well enough.\n",
    "\n",
    "* In the AUC-PR and F1-Score metrix which we have selected to account for inbalanced classes, most of the stacks perform very pretty similarly on AUC-PR with highest differences present in F1-Score results. In terms of accuracy they also varied minimally.\n",
    "\n",
    "* Even though we have inbalanced dataset accuracy is not significantly worse than the other metrics that take in account the inbalance.\n",
    "\n",
    "* High AUC-PR should signify that method manages very well the classification of the minority class - in this case spam.\n",
    "\n",
    "* High F1 also means it balanced pretty well precision and recall although in real life false positives and false negatives might not have similar consequences and we might focus more on rather not detecting good email as spam.\n",
    "\n",
    "* Suprisingly the inclusion of both simple methods (NB and LR) didn't significantly improve the results or perform in general better than the single simple method combinations.\n",
    "\n",
    "* The best stack combines Random Forest and Gradient Boosting, both with 50 trees which are both the default configurations that we would select if using these methods in separate.\n",
    "\n",
    "* Depth unbounded tree based ensembles performed worse in general compared to the ones bounded with max tree depth 10.\n"
   ]
  }
 ],
 "metadata": {
  "kernelspec": {
   "display_name": "Python 3 (ipykernel)",
   "language": "python",
   "name": "python3"
  },
  "language_info": {
   "codemirror_mode": {
    "name": "ipython",
    "version": 3
   },
   "file_extension": ".py",
   "mimetype": "text/x-python",
   "name": "python",
   "nbconvert_exporter": "python",
   "pygments_lexer": "ipython3",
   "version": "3.11.7"
  }
 },
 "nbformat": 4,
 "nbformat_minor": 5
}
